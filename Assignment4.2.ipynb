{
 "cells": [
  {
   "cell_type": "code",
   "execution_count": 1,
   "metadata": {},
   "outputs": [
    {
     "name": "stdout",
     "output_type": "stream",
     "text": [
      "List of Words : ['sree', 'kanth', 'acad', 'gild', 'se', 'Bangalore', 'Machine Learning', 'Deep Learning']\n",
      "List of Word's length : [4, 5, 4, 4, 2, 9, 16, 13]\n"
     ]
    }
   ],
   "source": [
    "listOfWords = ['sree', 'kanth', 'acad', 'gild' , 'se' , 'Bangalore', 'Machine Learning', 'Deep Learning']\n",
    " \n",
    "listOfInts = []\n",
    " \n",
    "for i in range(len(listOfWords)):\n",
    "    listOfInts.append(len(listOfWords[i]))\n",
    " \n",
    "print (\"List of Words : \" + str(listOfWords))    \n",
    "print (\"List of Word's length : \" + str(listOfInts))"
   ]
  },
  {
   "cell_type": "code",
   "execution_count": 5,
   "metadata": {},
   "outputs": [
    {
     "name": "stdout",
     "output_type": "stream",
     "text": [
      "True\n",
      "False\n",
      "False\n",
      "True\n"
     ]
    }
   ],
   "source": [
    "#Write a Python function which takes a character (i.e. a string of length 1) and returns True if it is a vowel, False otherwise.\n",
    "\n",
    "def isVowel(char):\n",
    "    return char.lower() in 'aeiou'\n",
    "\n",
    "print(isVowel('a'))\n",
    "print(isVowel('s'))\n",
    "print(isVowel('d'))\n",
    "print(isVowel('e'))"
   ]
  },
  {
   "cell_type": "code",
   "execution_count": null,
   "metadata": {},
   "outputs": [],
   "source": []
  }
 ],
 "metadata": {
  "kernelspec": {
   "display_name": "Python 3",
   "language": "python",
   "name": "python3"
  },
  "language_info": {
   "codemirror_mode": {
    "name": "ipython",
    "version": 3
   },
   "file_extension": ".py",
   "mimetype": "text/x-python",
   "name": "python",
   "nbconvert_exporter": "python",
   "pygments_lexer": "ipython3",
   "version": "3.6.5"
  }
 },
 "nbformat": 4,
 "nbformat_minor": 2
}
